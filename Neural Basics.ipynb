{
 "cells": [
  {
   "cell_type": "code",
   "execution_count": 1,
   "metadata": {},
   "outputs": [],
   "source": [
    "import torch"
   ]
  },
  {
   "cell_type": "code",
   "execution_count": 2,
   "metadata": {},
   "outputs": [
    {
     "name": "stdout",
     "output_type": "stream",
     "text": [
      "tensor([2, 2, 1])\n",
      "torch.Size([3])\n",
      "torch.Size([3])\n"
     ]
    }
   ],
   "source": [
    "# 1-d tensor\n",
    "a= torch.tensor([2,2,1])\n",
    "print(a)\n",
    "# size\n",
    "print(a.shape)\n",
    "print(a.size())"
   ]
  },
  {
   "cell_type": "code",
   "execution_count": 3,
   "metadata": {},
   "outputs": [
    {
     "name": "stdout",
     "output_type": "stream",
     "text": [
      "4\n"
     ]
    }
   ],
   "source": [
    "# 2-d tensor\n",
    "b = torch.tensor([[2,1,4],[3,5,4],[1,2,0],[4,3,2]])\n",
    "# get no.of rows/height of b\n",
    "print(b.shape[0])"
   ]
  },
  {
   "cell_type": "code",
   "execution_count": 4,
   "metadata": {},
   "outputs": [
    {
     "name": "stdout",
     "output_type": "stream",
     "text": [
      "tensor([[2., 1., 4.],\n",
      "        [3., 5., 4.],\n",
      "        [1., 2., 0.],\n",
      "        [4., 3., 2.]])\n",
      "tensor(1.6667)\n"
     ]
    }
   ],
   "source": [
    "c= torch.FloatTensor([[2,1,4],[3,5,4],[1,2,0],[4,3,2]])\n",
    "print(c)\n",
    "# For double tensor you can give as\n",
    "d= torch.tensor([2,2,1], dtype=torch.float)\n",
    "print(d.mean())"
   ]
  },
  {
   "cell_type": "code",
   "execution_count": 7,
   "metadata": {},
   "outputs": [
    {
     "name": "stdout",
     "output_type": "stream",
     "text": [
      "tensor([[2],\n",
      "        [1],\n",
      "        [4],\n",
      "        [3],\n",
      "        [5],\n",
      "        [4],\n",
      "        [1],\n",
      "        [2],\n",
      "        [0],\n",
      "        [4],\n",
      "        [3],\n",
      "        [2]])\n"
     ]
    }
   ],
   "source": [
    "#REshape tensor into column vector\n",
    "b_reshape = b.view(-1,1)\n",
    "print(b_reshape)\n",
    "b= b.view(-1,1) # 1 row and 12 columns"
   ]
  },
  {
   "cell_type": "code",
   "execution_count": 10,
   "metadata": {},
   "outputs": [
    {
     "name": "stdout",
     "output_type": "stream",
     "text": [
      "tensor([[[-0.7102,  0.4950,  0.6371, -0.8625],\n",
      "         [ 0.5603,  0.0982,  0.7867, -0.0406],\n",
      "         [ 0.1060, -0.3549,  0.2598,  0.8837]],\n",
      "\n",
      "        [[-0.8305,  0.0265,  0.1740,  0.2773],\n",
      "         [-0.9103,  0.6071, -0.0610,  0.5561],\n",
      "         [ 1.3821, -0.2957, -0.1735, -0.6914]]])\n"
     ]
    }
   ],
   "source": [
    "# 3-D tensor( channels, rows, columns)\n",
    "three_dim = torch.randn(2,3,4)\n",
    "print(three_dim)"
   ]
  }
 ],
 "metadata": {
  "kernelspec": {
   "display_name": "Python 3",
   "language": "python",
   "name": "python3"
  },
  "language_info": {
   "codemirror_mode": {
    "name": "ipython",
    "version": 3
   },
   "file_extension": ".py",
   "mimetype": "text/x-python",
   "name": "python",
   "nbconvert_exporter": "python",
   "pygments_lexer": "ipython3",
   "version": "3.11.5"
  }
 },
 "nbformat": 4,
 "nbformat_minor": 2
}
